{
  "nbformat": 4,
  "nbformat_minor": 0,
  "metadata": {
    "colab": {
      "provenance": [],
      "gpuType": "T4",
      "authorship_tag": "ABX9TyOG0atpvoDADYL3xiiFgkd3",
      "include_colab_link": true
    },
    "kernelspec": {
      "name": "python3",
      "display_name": "Python 3"
    },
    "language_info": {
      "name": "python"
    },
    "accelerator": "GPU"
  },
  "cells": [
    {
      "cell_type": "markdown",
      "metadata": {
        "id": "view-in-github",
        "colab_type": "text"
      },
      "source": [
        "<a href=\"https://colab.research.google.com/github/txnf/autobonk/blob/main/autobonk_rampp.ipynb\" target=\"_parent\"><img src=\"https://colab.research.google.com/assets/colab-badge.svg\" alt=\"Open In Colab\"/></a>"
      ]
    },
    {
      "cell_type": "markdown",
      "source": [
        "# RAM++ example\n",
        "\n",
        "derived from https://colab.research.google.com/github/mhd-medfa/recognize-anything/blob/main/recognize_anything_demo.ipynb\n",
        "\n",
        "credit to these authors for development of this model"
      ],
      "metadata": {
        "id": "PVJOXlkIENbC"
      }
    },
    {
      "cell_type": "code",
      "execution_count": 1,
      "metadata": {
        "id": "dQ57B_yWiCg5"
      },
      "outputs": [],
      "source": [
        "#@title Import dependencies\n",
        "import ipywidgets as widgets\n",
        "from IPython.display import clear_output, display, Image\n",
        "import os"
      ]
    },
    {
      "cell_type": "code",
      "source": [
        "#@title Clone the repository\n",
        "!git clone https://github.com/xinyu1205/recognize-anything.git\n",
        "\n",
        "%cd recognize-anything\n",
        "!git checkout ec6b4241c5036e337a4543838deb9bff4990de97"
      ],
      "metadata": {
        "id": "0U5ah3y7Egde"
      },
      "execution_count": null,
      "outputs": []
    },
    {
      "cell_type": "code",
      "source": [
        "#@title Install dependencies\n",
        "!pip install timm transformers fairscale pycocoevalcap\n",
        "\n",
        "clear_output()"
      ],
      "metadata": {
        "id": "vXk16AhCEgoj"
      },
      "execution_count": null,
      "outputs": []
    },
    {
      "cell_type": "code",
      "source": [
        "#@title download model weights\n",
        "if not os.path.exists('pretrained'):\n",
        "    os.makedirs('pretrained')\n",
        "\n",
        "ram_weights_path = 'pretrained/ram_swin_large_14m.pth'\n",
        "if not os.path.exists(ram_weights_path):\n",
        "    !wget https://huggingface.co/spaces/xinyu1205/Recognize_Anything-Tag2Text/resolve/main/ram_swin_large_14m.pth -O pretrained/ram_swin_large_14m.pth\n",
        "else:\n",
        "    print(\"RAM weights already downloaded!\")\n",
        "\n",
        "tag2text_weights_path = 'pretrained/tag2text_swin_14m.pth'\n",
        "if not os.path.exists(tag2text_weights_path):\n",
        "    !wget https://huggingface.co/spaces/xinyu1205/Recognize_Anything-Tag2Text/resolve/main/tag2text_swin_14m.pth -O pretrained/tag2text_swin_14m.pth\n",
        "else:\n",
        "    print(\"Tag2Text weights already downloaded!\")\n"
      ],
      "metadata": {
        "id": "qNfFihtHEhCG"
      },
      "execution_count": null,
      "outputs": []
    },
    {
      "cell_type": "code",
      "source": [],
      "metadata": {
        "id": "ZkhteRGjfEdW"
      },
      "execution_count": null,
      "outputs": []
    },
    {
      "cell_type": "code",
      "source": [
        "images_dir_widget = widgets.Text(value=\"images/demo\", description=\"Images dir:\")\n",
        "display(images_dir_widget)"
      ],
      "metadata": {
        "id": "czJJ2Le7EhPQ"
      },
      "execution_count": null,
      "outputs": []
    },
    {
      "cell_type": "code",
      "source": [
        "image_files = [f\"{images_dir}/{file}\" for file in sorted(os.listdir(images_dir)) if file.lower().endswith(('.jpg', '.jpeg', '.png'))]\n",
        "image_path = image_files[0]\n",
        "\n",
        "# Create dropdown widget\n",
        "image_dropdown = widgets.Dropdown(\n",
        "    options=image_files,\n",
        "    description='Select Image:',\n",
        ")\n",
        "\n",
        "# Create image preview widget\n",
        "image_preview = widgets.Output()\n",
        "\n",
        "# Define function to update image preview\n",
        "def update_preview(change):\n",
        "    global image_path\n",
        "    image_path = change.new\n",
        "    with image_preview:\n",
        "        image_preview.clear_output()\n",
        "        display(Image(filename=image_path, width=400))\n",
        "\n",
        "# Set the initial image preview\n",
        "with image_preview:\n",
        "    display(Image(filename=image_files[0], width=400))\n",
        "\n",
        "# Attach the update function to the dropdown\n",
        "image_dropdown.observe(update_preview, names='value')\n",
        "\n",
        "# Display the widgets\n",
        "display(image_dropdown, image_preview)"
      ],
      "metadata": {
        "id": "4wLs_3RUFENd"
      },
      "execution_count": null,
      "outputs": []
    },
    {
      "cell_type": "code",
      "source": [],
      "metadata": {
        "id": "BhK0RlTBFEYz"
      },
      "execution_count": null,
      "outputs": []
    },
    {
      "cell_type": "code",
      "source": [],
      "metadata": {
        "id": "rMgZkrAqFEjx"
      },
      "execution_count": null,
      "outputs": []
    },
    {
      "cell_type": "code",
      "source": [],
      "metadata": {
        "id": "NRJO8JLWFEu-"
      },
      "execution_count": null,
      "outputs": []
    },
    {
      "cell_type": "code",
      "source": [],
      "metadata": {
        "id": "nFp7bJE9FE7k"
      },
      "execution_count": null,
      "outputs": []
    },
    {
      "cell_type": "code",
      "source": [],
      "metadata": {
        "id": "KD23BQP9FFIQ"
      },
      "execution_count": null,
      "outputs": []
    },
    {
      "cell_type": "code",
      "source": [],
      "metadata": {
        "id": "3oTrzokSFFVs"
      },
      "execution_count": null,
      "outputs": []
    }
  ]
}