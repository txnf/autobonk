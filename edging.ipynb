{
  "nbformat": 4,
  "nbformat_minor": 0,
  "metadata": {
    "colab": {
      "provenance": [],
      "gpuType": "T4",
      "authorship_tag": "ABX9TyMockeiXXAdqaYKtESDhLiV",
      "include_colab_link": true
    },
    "kernelspec": {
      "name": "python3",
      "display_name": "Python 3"
    },
    "language_info": {
      "name": "python"
    },
    "accelerator": "GPU"
  },
  "cells": [
    {
      "cell_type": "markdown",
      "metadata": {
        "id": "view-in-github",
        "colab_type": "text"
      },
      "source": [
        "<a href=\"https://colab.research.google.com/github/txnf/autobonk/blob/main/edging.ipynb\" target=\"_parent\"><img src=\"https://colab.research.google.com/assets/colab-badge.svg\" alt=\"Open In Colab\"/></a>"
      ]
    },
    {
      "cell_type": "code",
      "execution_count": null,
      "metadata": {
        "id": "nKFjiqKa3qz-"
      },
      "outputs": [],
      "source": [
        "#@title load gdrive if you want\n",
        "from google.colab import drive\n",
        "drive.mount('/content/gdrive')"
      ]
    },
    {
      "cell_type": "code",
      "source": [
        "!pip install accelerate"
      ],
      "metadata": {
        "colab": {
          "base_uri": "https://localhost:8080/"
        },
        "id": "B6jIllAA-DFF",
        "outputId": "2f849403-fda6-4495-ef76-b7514f489e9a"
      },
      "execution_count": 2,
      "outputs": [
        {
          "output_type": "stream",
          "name": "stdout",
          "text": [
            "Requirement already satisfied: accelerate in /usr/local/lib/python3.10/dist-packages (0.25.0)\n",
            "Requirement already satisfied: numpy>=1.17 in /usr/local/lib/python3.10/dist-packages (from accelerate) (1.23.5)\n",
            "Requirement already satisfied: packaging>=20.0 in /usr/local/lib/python3.10/dist-packages (from accelerate) (23.2)\n",
            "Requirement already satisfied: psutil in /usr/local/lib/python3.10/dist-packages (from accelerate) (5.9.5)\n",
            "Requirement already satisfied: pyyaml in /usr/local/lib/python3.10/dist-packages (from accelerate) (6.0.1)\n",
            "Requirement already satisfied: torch>=1.10.0 in /usr/local/lib/python3.10/dist-packages (from accelerate) (2.1.0+cu121)\n",
            "Requirement already satisfied: huggingface-hub in /usr/local/lib/python3.10/dist-packages (from accelerate) (0.20.1)\n",
            "Requirement already satisfied: safetensors>=0.3.1 in /usr/local/lib/python3.10/dist-packages (from accelerate) (0.4.1)\n",
            "Requirement already satisfied: filelock in /usr/local/lib/python3.10/dist-packages (from torch>=1.10.0->accelerate) (3.13.1)\n",
            "Requirement already satisfied: typing-extensions in /usr/local/lib/python3.10/dist-packages (from torch>=1.10.0->accelerate) (4.5.0)\n",
            "Requirement already satisfied: sympy in /usr/local/lib/python3.10/dist-packages (from torch>=1.10.0->accelerate) (1.12)\n",
            "Requirement already satisfied: networkx in /usr/local/lib/python3.10/dist-packages (from torch>=1.10.0->accelerate) (3.2.1)\n",
            "Requirement already satisfied: jinja2 in /usr/local/lib/python3.10/dist-packages (from torch>=1.10.0->accelerate) (3.1.2)\n",
            "Requirement already satisfied: fsspec in /usr/local/lib/python3.10/dist-packages (from torch>=1.10.0->accelerate) (2023.6.0)\n",
            "Requirement already satisfied: triton==2.1.0 in /usr/local/lib/python3.10/dist-packages (from torch>=1.10.0->accelerate) (2.1.0)\n",
            "Requirement already satisfied: requests in /usr/local/lib/python3.10/dist-packages (from huggingface-hub->accelerate) (2.31.0)\n",
            "Requirement already satisfied: tqdm>=4.42.1 in /usr/local/lib/python3.10/dist-packages (from huggingface-hub->accelerate) (4.45.0)\n",
            "Requirement already satisfied: MarkupSafe>=2.0 in /usr/local/lib/python3.10/dist-packages (from jinja2->torch>=1.10.0->accelerate) (2.1.3)\n",
            "Requirement already satisfied: charset-normalizer<4,>=2 in /usr/local/lib/python3.10/dist-packages (from requests->huggingface-hub->accelerate) (3.3.2)\n",
            "Requirement already satisfied: idna<4,>=2.5 in /usr/local/lib/python3.10/dist-packages (from requests->huggingface-hub->accelerate) (3.6)\n",
            "Requirement already satisfied: urllib3<3,>=1.21.1 in /usr/local/lib/python3.10/dist-packages (from requests->huggingface-hub->accelerate) (2.0.7)\n",
            "Requirement already satisfied: certifi>=2017.4.17 in /usr/local/lib/python3.10/dist-packages (from requests->huggingface-hub->accelerate) (2023.11.17)\n",
            "Requirement already satisfied: mpmath>=0.19 in /usr/local/lib/python3.10/dist-packages (from sympy->torch>=1.10.0->accelerate) (1.3.0)\n"
          ]
        }
      ]
    },
    {
      "cell_type": "code",
      "source": [
        "#@title install pytorch3d from git repo\n",
        "!pip install 'git+https://github.com/facebookresearch/pytorch3d.git'\n"
      ],
      "metadata": {
        "colab": {
          "base_uri": "https://localhost:8080/"
        },
        "id": "du98cPSH-C47",
        "outputId": "2057ee60-8888-4e3a-8256-812c21da52a2"
      },
      "execution_count": 4,
      "outputs": [
        {
          "output_type": "stream",
          "name": "stdout",
          "text": [
            "Collecting git+https://github.com/facebookresearch/pytorch3d.git\n",
            "  Cloning https://github.com/facebookresearch/pytorch3d.git to /tmp/pip-req-build-gx5tzlop\n",
            "  Running command git clone --filter=blob:none --quiet https://github.com/facebookresearch/pytorch3d.git /tmp/pip-req-build-gx5tzlop\n",
            "  Resolved https://github.com/facebookresearch/pytorch3d.git to commit 3621a36494db27336a89503dded7ca896bb059d7\n",
            "  Preparing metadata (setup.py) ... \u001b[?25l\u001b[?25hdone\n",
            "Requirement already satisfied: fvcore in /usr/local/lib/python3.10/dist-packages (from pytorch3d==0.7.5) (0.1.5.post20221221)\n",
            "Requirement already satisfied: iopath in /usr/local/lib/python3.10/dist-packages (from pytorch3d==0.7.5) (0.1.10)\n",
            "Requirement already satisfied: numpy in /usr/local/lib/python3.10/dist-packages (from fvcore->pytorch3d==0.7.5) (1.23.5)\n",
            "Requirement already satisfied: yacs>=0.1.6 in /usr/local/lib/python3.10/dist-packages (from fvcore->pytorch3d==0.7.5) (0.1.8)\n",
            "Requirement already satisfied: pyyaml>=5.1 in /usr/local/lib/python3.10/dist-packages (from fvcore->pytorch3d==0.7.5) (6.0.1)\n",
            "Requirement already satisfied: tqdm in /usr/local/lib/python3.10/dist-packages (from fvcore->pytorch3d==0.7.5) (4.45.0)\n",
            "Requirement already satisfied: termcolor>=1.1 in /usr/local/lib/python3.10/dist-packages (from fvcore->pytorch3d==0.7.5) (2.4.0)\n",
            "Requirement already satisfied: Pillow in /usr/local/lib/python3.10/dist-packages (from fvcore->pytorch3d==0.7.5) (9.4.0)\n",
            "Requirement already satisfied: tabulate in /usr/local/lib/python3.10/dist-packages (from fvcore->pytorch3d==0.7.5) (0.9.0)\n",
            "Requirement already satisfied: typing-extensions in /usr/local/lib/python3.10/dist-packages (from iopath->pytorch3d==0.7.5) (4.5.0)\n",
            "Requirement already satisfied: portalocker in /usr/local/lib/python3.10/dist-packages (from iopath->pytorch3d==0.7.5) (2.8.2)\n"
          ]
        }
      ]
    },
    {
      "cell_type": "code",
      "source": [
        "#@title install jukemirlib\n",
        "!pip install 'git+https://github.com/rodrigo-castellon/jukemirlib.git'"
      ],
      "metadata": {
        "colab": {
          "base_uri": "https://localhost:8080/"
        },
        "id": "r4LdnImk-Cpb",
        "outputId": "05caf997-78d1-4cae-c6a8-5605dbf946f0"
      },
      "execution_count": 3,
      "outputs": [
        {
          "output_type": "stream",
          "name": "stdout",
          "text": [
            "Collecting git+https://github.com/rodrigo-castellon/jukemirlib.git\n",
            "  Cloning https://github.com/rodrigo-castellon/jukemirlib.git to /tmp/pip-req-build-4cqsaqt5\n",
            "  Running command git clone --filter=blob:none --quiet https://github.com/rodrigo-castellon/jukemirlib.git /tmp/pip-req-build-4cqsaqt5\n",
            "  Resolved https://github.com/rodrigo-castellon/jukemirlib.git to commit 98223a631f7327b4b45ed60f900e6a3a71130b25\n",
            "  Preparing metadata (setup.py) ... \u001b[?25l\u001b[?25hdone\n",
            "Collecting jukebox@ git+https://github.com/rodrigo-castellon/jukebox.git (from jukemirlib==0.0.0)\n",
            "  Cloning https://github.com/rodrigo-castellon/jukebox.git to /tmp/pip-install-3pu5z8pd/jukebox_4d2c600e47914e1b81e9726fc6f8e96a\n",
            "  Running command git clone --filter=blob:none --quiet https://github.com/rodrigo-castellon/jukebox.git /tmp/pip-install-3pu5z8pd/jukebox_4d2c600e47914e1b81e9726fc6f8e96a\n",
            "  Resolved https://github.com/rodrigo-castellon/jukebox.git to commit 6b4486164e150286d9d6944797a14b19f31912f0\n",
            "  Preparing metadata (setup.py) ... \u001b[?25l\u001b[?25hdone\n",
            "Requirement already satisfied: wget in /usr/local/lib/python3.10/dist-packages (from jukemirlib==0.0.0) (3.2)\n",
            "Requirement already satisfied: accelerate in /usr/local/lib/python3.10/dist-packages (from jukemirlib==0.0.0) (0.25.0)\n",
            "Requirement already satisfied: numpy>=1.17 in /usr/local/lib/python3.10/dist-packages (from accelerate->jukemirlib==0.0.0) (1.23.5)\n",
            "Requirement already satisfied: packaging>=20.0 in /usr/local/lib/python3.10/dist-packages (from accelerate->jukemirlib==0.0.0) (23.2)\n",
            "Requirement already satisfied: psutil in /usr/local/lib/python3.10/dist-packages (from accelerate->jukemirlib==0.0.0) (5.9.5)\n",
            "Requirement already satisfied: pyyaml in /usr/local/lib/python3.10/dist-packages (from accelerate->jukemirlib==0.0.0) (6.0.1)\n",
            "Requirement already satisfied: torch>=1.10.0 in /usr/local/lib/python3.10/dist-packages (from accelerate->jukemirlib==0.0.0) (2.1.0+cu121)\n",
            "Requirement already satisfied: huggingface-hub in /usr/local/lib/python3.10/dist-packages (from accelerate->jukemirlib==0.0.0) (0.20.1)\n",
            "Requirement already satisfied: safetensors>=0.3.1 in /usr/local/lib/python3.10/dist-packages (from accelerate->jukemirlib==0.0.0) (0.4.1)\n",
            "Requirement already satisfied: fire==0.1.3 in /usr/local/lib/python3.10/dist-packages (from jukebox@ git+https://github.com/rodrigo-castellon/jukebox.git->jukemirlib==0.0.0) (0.1.3)\n",
            "Requirement already satisfied: tqdm==4.45.0 in /usr/local/lib/python3.10/dist-packages (from jukebox@ git+https://github.com/rodrigo-castellon/jukebox.git->jukemirlib==0.0.0) (4.45.0)\n",
            "Requirement already satisfied: soundfile==0.10.3.post1 in /usr/local/lib/python3.10/dist-packages (from jukebox@ git+https://github.com/rodrigo-castellon/jukebox.git->jukemirlib==0.0.0) (0.10.3.post1)\n",
            "Requirement already satisfied: unidecode==1.1.1 in /usr/local/lib/python3.10/dist-packages (from jukebox@ git+https://github.com/rodrigo-castellon/jukebox.git->jukemirlib==0.0.0) (1.1.1)\n",
            "Requirement already satisfied: numba in /usr/local/lib/python3.10/dist-packages (from jukebox@ git+https://github.com/rodrigo-castellon/jukebox.git->jukemirlib==0.0.0) (0.58.1)\n",
            "Requirement already satisfied: librosa in /usr/local/lib/python3.10/dist-packages (from jukebox@ git+https://github.com/rodrigo-castellon/jukebox.git->jukemirlib==0.0.0) (0.9.2)\n",
            "Requirement already satisfied: six in /usr/local/lib/python3.10/dist-packages (from fire==0.1.3->jukebox@ git+https://github.com/rodrigo-castellon/jukebox.git->jukemirlib==0.0.0) (1.16.0)\n",
            "Requirement already satisfied: cffi>=1.0 in /usr/local/lib/python3.10/dist-packages (from soundfile==0.10.3.post1->jukebox@ git+https://github.com/rodrigo-castellon/jukebox.git->jukemirlib==0.0.0) (1.16.0)\n",
            "Requirement already satisfied: filelock in /usr/local/lib/python3.10/dist-packages (from torch>=1.10.0->accelerate->jukemirlib==0.0.0) (3.13.1)\n",
            "Requirement already satisfied: typing-extensions in /usr/local/lib/python3.10/dist-packages (from torch>=1.10.0->accelerate->jukemirlib==0.0.0) (4.5.0)\n",
            "Requirement already satisfied: sympy in /usr/local/lib/python3.10/dist-packages (from torch>=1.10.0->accelerate->jukemirlib==0.0.0) (1.12)\n",
            "Requirement already satisfied: networkx in /usr/local/lib/python3.10/dist-packages (from torch>=1.10.0->accelerate->jukemirlib==0.0.0) (3.2.1)\n",
            "Requirement already satisfied: jinja2 in /usr/local/lib/python3.10/dist-packages (from torch>=1.10.0->accelerate->jukemirlib==0.0.0) (3.1.2)\n",
            "Requirement already satisfied: fsspec in /usr/local/lib/python3.10/dist-packages (from torch>=1.10.0->accelerate->jukemirlib==0.0.0) (2023.6.0)\n",
            "Requirement already satisfied: triton==2.1.0 in /usr/local/lib/python3.10/dist-packages (from torch>=1.10.0->accelerate->jukemirlib==0.0.0) (2.1.0)\n",
            "Requirement already satisfied: requests in /usr/local/lib/python3.10/dist-packages (from huggingface-hub->accelerate->jukemirlib==0.0.0) (2.31.0)\n",
            "Requirement already satisfied: audioread>=2.1.9 in /usr/local/lib/python3.10/dist-packages (from librosa->jukebox@ git+https://github.com/rodrigo-castellon/jukebox.git->jukemirlib==0.0.0) (3.0.1)\n",
            "Requirement already satisfied: scipy>=1.2.0 in /usr/local/lib/python3.10/dist-packages (from librosa->jukebox@ git+https://github.com/rodrigo-castellon/jukebox.git->jukemirlib==0.0.0) (1.11.4)\n",
            "Requirement already satisfied: scikit-learn>=0.19.1 in /usr/local/lib/python3.10/dist-packages (from librosa->jukebox@ git+https://github.com/rodrigo-castellon/jukebox.git->jukemirlib==0.0.0) (1.2.2)\n",
            "Requirement already satisfied: joblib>=0.14 in /usr/local/lib/python3.10/dist-packages (from librosa->jukebox@ git+https://github.com/rodrigo-castellon/jukebox.git->jukemirlib==0.0.0) (1.3.2)\n",
            "Requirement already satisfied: decorator>=4.0.10 in /usr/local/lib/python3.10/dist-packages (from librosa->jukebox@ git+https://github.com/rodrigo-castellon/jukebox.git->jukemirlib==0.0.0) (4.4.2)\n",
            "Requirement already satisfied: resampy>=0.2.2 in /usr/local/lib/python3.10/dist-packages (from librosa->jukebox@ git+https://github.com/rodrigo-castellon/jukebox.git->jukemirlib==0.0.0) (0.4.2)\n",
            "Requirement already satisfied: pooch>=1.0 in /usr/local/lib/python3.10/dist-packages (from librosa->jukebox@ git+https://github.com/rodrigo-castellon/jukebox.git->jukemirlib==0.0.0) (1.8.0)\n",
            "Requirement already satisfied: llvmlite<0.42,>=0.41.0dev0 in /usr/local/lib/python3.10/dist-packages (from numba->jukebox@ git+https://github.com/rodrigo-castellon/jukebox.git->jukemirlib==0.0.0) (0.41.1)\n",
            "Requirement already satisfied: pycparser in /usr/local/lib/python3.10/dist-packages (from cffi>=1.0->soundfile==0.10.3.post1->jukebox@ git+https://github.com/rodrigo-castellon/jukebox.git->jukemirlib==0.0.0) (2.21)\n",
            "Requirement already satisfied: platformdirs>=2.5.0 in /usr/local/lib/python3.10/dist-packages (from pooch>=1.0->librosa->jukebox@ git+https://github.com/rodrigo-castellon/jukebox.git->jukemirlib==0.0.0) (4.1.0)\n",
            "Requirement already satisfied: charset-normalizer<4,>=2 in /usr/local/lib/python3.10/dist-packages (from requests->huggingface-hub->accelerate->jukemirlib==0.0.0) (3.3.2)\n",
            "Requirement already satisfied: idna<4,>=2.5 in /usr/local/lib/python3.10/dist-packages (from requests->huggingface-hub->accelerate->jukemirlib==0.0.0) (3.6)\n",
            "Requirement already satisfied: urllib3<3,>=1.21.1 in /usr/local/lib/python3.10/dist-packages (from requests->huggingface-hub->accelerate->jukemirlib==0.0.0) (2.0.7)\n",
            "Requirement already satisfied: certifi>=2017.4.17 in /usr/local/lib/python3.10/dist-packages (from requests->huggingface-hub->accelerate->jukemirlib==0.0.0) (2023.11.17)\n",
            "Requirement already satisfied: threadpoolctl>=2.0.0 in /usr/local/lib/python3.10/dist-packages (from scikit-learn>=0.19.1->librosa->jukebox@ git+https://github.com/rodrigo-castellon/jukebox.git->jukemirlib==0.0.0) (3.2.0)\n",
            "Requirement already satisfied: MarkupSafe>=2.0 in /usr/local/lib/python3.10/dist-packages (from jinja2->torch>=1.10.0->accelerate->jukemirlib==0.0.0) (2.1.3)\n",
            "Requirement already satisfied: mpmath>=0.19 in /usr/local/lib/python3.10/dist-packages (from sympy->torch>=1.10.0->accelerate->jukemirlib==0.0.0) (1.3.0)\n"
          ]
        }
      ]
    },
    {
      "cell_type": "code",
      "source": [
        "#@title install youtube-dl\n",
        "!pip install youtube-dl"
      ],
      "metadata": {
        "colab": {
          "base_uri": "https://localhost:8080/"
        },
        "id": "Z_XN9qaT4aHL",
        "outputId": "15a3e566-c93f-4c82-894e-7a557894fcbd"
      },
      "execution_count": 5,
      "outputs": [
        {
          "output_type": "stream",
          "name": "stdout",
          "text": [
            "Requirement already satisfied: youtube-dl in /usr/local/lib/python3.10/dist-packages (2021.12.17)\n"
          ]
        }
      ]
    },
    {
      "cell_type": "code",
      "source": [
        "#@title clone EDGE repo\n",
        "!git clone https://github.com/Stanford-TML/EDGE.git"
      ],
      "metadata": {
        "colab": {
          "base_uri": "https://localhost:8080/"
        },
        "id": "bY5kK9G44bd4",
        "outputId": "423acde2-1365-48fa-9ac6-c9abb7546e22"
      },
      "execution_count": 6,
      "outputs": [
        {
          "output_type": "stream",
          "name": "stdout",
          "text": [
            "fatal: destination path 'EDGE' already exists and is not an empty directory.\n"
          ]
        }
      ]
    },
    {
      "cell_type": "code",
      "source": [
        "#@title dl model checkpoint\n",
        "!bash EDGE/download_model.sh"
      ],
      "metadata": {
        "colab": {
          "base_uri": "https://localhost:8080/"
        },
        "id": "nQbH1Tyx4bvS",
        "outputId": "0a75d608-1c75-4afc-d2a0-aab42302518e"
      },
      "execution_count": 7,
      "outputs": [
        {
          "output_type": "stream",
          "name": "stdout",
          "text": [
            "--2024-01-04 01:39:49--  https://docs.google.com/uc?export=download&confirm=t&id=1BAR712cVEqB8GR37fcEihRV_xOC-fZrZ\n",
            "Resolving docs.google.com (docs.google.com)... 74.125.124.100, 74.125.124.138, 74.125.124.101, ...\n",
            "Connecting to docs.google.com (docs.google.com)|74.125.124.100|:443... connected.\n",
            "HTTP request sent, awaiting response... 303 See Other\n",
            "Location: https://doc-14-60-docs.googleusercontent.com/docs/securesc/ha0ro937gcuc7l7deffksulhg5h7mbp1/nvs2gk3rkkt80oh73c9er35na4f6c5d5/1704332325000/18309985336914167546/*/1BAR712cVEqB8GR37fcEihRV_xOC-fZrZ?e=download&uuid=4d129a6d-cb5a-4725-b995-a47d26a80c14 [following]\n",
            "Warning: wildcards not supported in HTTP.\n",
            "--2024-01-04 01:39:49--  https://doc-14-60-docs.googleusercontent.com/docs/securesc/ha0ro937gcuc7l7deffksulhg5h7mbp1/nvs2gk3rkkt80oh73c9er35na4f6c5d5/1704332325000/18309985336914167546/*/1BAR712cVEqB8GR37fcEihRV_xOC-fZrZ?e=download&uuid=4d129a6d-cb5a-4725-b995-a47d26a80c14\n",
            "Resolving doc-14-60-docs.googleusercontent.com (doc-14-60-docs.googleusercontent.com)... 172.253.119.132, 2607:f8b0:4001:c23::84\n",
            "Connecting to doc-14-60-docs.googleusercontent.com (doc-14-60-docs.googleusercontent.com)|172.253.119.132|:443... connected.\n",
            "HTTP request sent, awaiting response... 200 OK\n",
            "Length: 1187620478 (1.1G) [application/x-zip]\n",
            "Saving to: ‘checkpoint.pt’\n",
            "\n",
            "checkpoint.pt       100%[===================>]   1.11G   245MB/s    in 8.7s    \n",
            "\n",
            "2024-01-04 01:39:58 (131 MB/s) - ‘checkpoint.pt’ saved [1187620478/1187620478]\n",
            "\n"
          ]
        }
      ]
    },
    {
      "cell_type": "code",
      "source": [
        "#@title  Output Directories\n",
        "output_folder = \"custom_music\"\n",
        "motion_folder = \"SMPL-to-FBX/motions\"\n",
        "fbx_folder = \"SMPL-to-FBX/fbx_out\""
      ],
      "metadata": {
        "id": "AOx3VM-584pb"
      },
      "execution_count": 9,
      "outputs": []
    },
    {
      "cell_type": "code",
      "source": [
        "#@title test urls\n",
        "urllist = [\n",
        "    \"https://www.youtube.com/watch?v=2RicaUqd9Hg\",\n",
        "    \"https://www.youtube.com/watch?v=-CCgDvUM4TM\",\n",
        "    \"https://www.youtube.com/watch?v=9KhbM2mqhCQ\",\n",
        "    \"https://www.youtube.com/watch?v=s3bksUSPB4c\",\n",
        "    \"https://www.youtube.com/watch?v=ABfQuZqq8wg\",\n",
        "    \"https://www.youtube.com/watch?v=fNFzfwLM72c\",\n",
        "    \"https://www.youtube.com/watch?v=9i6bCWIdhBw\",\n",
        "    \"https://www.youtube.com/watch?v=yURRmWtbTbo\",\n",
        "    \"https://www.youtube.com/watch?v=god7hAPv8f0\",\n",
        "    \"https://www.youtube.com/watch?v=1sqE6P3XyiQ\",\n",
        "    \"https://www.youtube.com/watch?v=Zi_XLOBDo_Y\",\n",
        "    \"https://www.youtube.com/watch?v=UHXGc2oWyJ4\",\n",
        "    \"https://www.youtube.com/watch?v=h4bP9tj_0Zk\",\n",
        "    \"https://www.youtube.com/watch?v=qK5KhQG06xU\",\n",
        "    \"https://www.youtube.com/watch?v=FDMHZFJnk2s\",\n",
        "    \"https://www.youtube.com/watch?v=4NJH75q0Syk\",\n",
        "    \"https://www.youtube.com/watch?v=ggJI9dKBk48\",\n",
        "    \"https://www.youtube.com/watch?v=LPYw3jXjd74\",\n",
        "    \"https://www.youtube.com/watch?v=P-sGt5E2epc\",\n",
        "    \"https://www.youtube.com/watch?v=GxBSyx85Kp8\",\n",
        "    \"https://www.youtube.com/watch?v=OPf0YbXqDm0\",\n",
        "    \"https://www.youtube.com/watch?v=c18441Eh_WE\",\n",
        "    \"https://www.youtube.com/watch?v=uSD4vsh1zDA\",\n",
        "    \"https://www.youtube.com/watch?v=ViwtNLUqkMY\",\n",
        "    \"https://www.youtube.com/watch?v=q0KZuZF01FA\",\n",
        "    \"https://www.youtube.com/watch?v=Vds8ddYXYZY\",\n",
        "    \"https://www.youtube.com/watch?v=gm3-m2CFVWM\",\n",
        "    \"https://www.youtube.com/watch?v=BerNfXSuvJ0\",\n",
        "    \"https://www.youtube.com/watch?v=aFmTvY11vug\",\n",
        "    \"https://www.youtube.com/watch?v=LOZuxwVk7TU\",\n",
        "    \"https://www.youtube.com/watch?v=TUVcZfQe-Kw\",\n",
        "    \"https://www.youtube.com/watch?v=Ab6E2BsuLJ0\",\n",
        "    \"https://www.youtube.com/watch?v=g7X9X6TlrUo\",\n",
        "    \"https://www.youtube.com/watch?v=nsXwi67WgOo\",\n",
        "    \"https://www.youtube.com/watch?v=HCq1OcAEAm0\",\n",
        "]\n",
        "\n"
      ],
      "metadata": {
        "id": "mPwEUdcu4b6x"
      },
      "execution_count": 10,
      "outputs": []
    },
    {
      "cell_type": "code",
      "source": [
        "#@ additional python modules not covered by the above installs\n",
        "!pip install wandb einops p_tqdm"
      ],
      "metadata": {
        "colab": {
          "base_uri": "https://localhost:8080/"
        },
        "id": "XPPIxqb0KOOM",
        "outputId": "417163a2-896d-4fba-87df-2f2318f2b31b"
      },
      "execution_count": 12,
      "outputs": [
        {
          "output_type": "stream",
          "name": "stdout",
          "text": [
            "Collecting wandb\n",
            "  Downloading wandb-0.16.1-py3-none-any.whl (2.1 MB)\n",
            "\u001b[2K     \u001b[90m━━━━━━━━━━━━━━━━━━━━━━━━━━━━━━━━━━━━━━━━\u001b[0m \u001b[32m2.1/2.1 MB\u001b[0m \u001b[31m9.9 MB/s\u001b[0m eta \u001b[36m0:00:00\u001b[0m\n",
            "\u001b[?25hRequirement already satisfied: Click!=8.0.0,>=7.1 in /usr/local/lib/python3.10/dist-packages (from wandb) (8.1.7)\n",
            "Collecting GitPython!=3.1.29,>=1.0.0 (from wandb)\n",
            "  Downloading GitPython-3.1.40-py3-none-any.whl (190 kB)\n",
            "\u001b[2K     \u001b[90m━━━━━━━━━━━━━━━━━━━━━━━━━━━━━━━━━━━━━━━━\u001b[0m \u001b[32m190.6/190.6 kB\u001b[0m \u001b[31m22.7 MB/s\u001b[0m eta \u001b[36m0:00:00\u001b[0m\n",
            "\u001b[?25hRequirement already satisfied: requests<3,>=2.0.0 in /usr/local/lib/python3.10/dist-packages (from wandb) (2.31.0)\n",
            "Requirement already satisfied: psutil>=5.0.0 in /usr/local/lib/python3.10/dist-packages (from wandb) (5.9.5)\n",
            "Collecting sentry-sdk>=1.0.0 (from wandb)\n",
            "  Downloading sentry_sdk-1.39.1-py2.py3-none-any.whl (254 kB)\n",
            "\u001b[2K     \u001b[90m━━━━━━━━━━━━━━━━━━━━━━━━━━━━━━━━━━━━━━━━\u001b[0m \u001b[32m254.1/254.1 kB\u001b[0m \u001b[31m26.3 MB/s\u001b[0m eta \u001b[36m0:00:00\u001b[0m\n",
            "\u001b[?25hCollecting docker-pycreds>=0.4.0 (from wandb)\n",
            "  Downloading docker_pycreds-0.4.0-py2.py3-none-any.whl (9.0 kB)\n",
            "Requirement already satisfied: PyYAML in /usr/local/lib/python3.10/dist-packages (from wandb) (6.0.1)\n",
            "Collecting setproctitle (from wandb)\n",
            "  Downloading setproctitle-1.3.3-cp310-cp310-manylinux_2_5_x86_64.manylinux1_x86_64.manylinux_2_17_x86_64.manylinux2014_x86_64.whl (30 kB)\n",
            "Requirement already satisfied: setuptools in /usr/local/lib/python3.10/dist-packages (from wandb) (67.7.2)\n",
            "Requirement already satisfied: appdirs>=1.4.3 in /usr/local/lib/python3.10/dist-packages (from wandb) (1.4.4)\n",
            "Requirement already satisfied: protobuf!=4.21.0,<5,>=3.19.0 in /usr/local/lib/python3.10/dist-packages (from wandb) (3.20.3)\n",
            "Requirement already satisfied: six>=1.4.0 in /usr/local/lib/python3.10/dist-packages (from docker-pycreds>=0.4.0->wandb) (1.16.0)\n",
            "Collecting gitdb<5,>=4.0.1 (from GitPython!=3.1.29,>=1.0.0->wandb)\n",
            "  Downloading gitdb-4.0.11-py3-none-any.whl (62 kB)\n",
            "\u001b[2K     \u001b[90m━━━━━━━━━━━━━━━━━━━━━━━━━━━━━━━━━━━━━━━━\u001b[0m \u001b[32m62.7/62.7 kB\u001b[0m \u001b[31m10.2 MB/s\u001b[0m eta \u001b[36m0:00:00\u001b[0m\n",
            "\u001b[?25hRequirement already satisfied: charset-normalizer<4,>=2 in /usr/local/lib/python3.10/dist-packages (from requests<3,>=2.0.0->wandb) (3.3.2)\n",
            "Requirement already satisfied: idna<4,>=2.5 in /usr/local/lib/python3.10/dist-packages (from requests<3,>=2.0.0->wandb) (3.6)\n",
            "Requirement already satisfied: urllib3<3,>=1.21.1 in /usr/local/lib/python3.10/dist-packages (from requests<3,>=2.0.0->wandb) (2.0.7)\n",
            "Requirement already satisfied: certifi>=2017.4.17 in /usr/local/lib/python3.10/dist-packages (from requests<3,>=2.0.0->wandb) (2023.11.17)\n",
            "Collecting smmap<6,>=3.0.1 (from gitdb<5,>=4.0.1->GitPython!=3.1.29,>=1.0.0->wandb)\n",
            "  Downloading smmap-5.0.1-py3-none-any.whl (24 kB)\n",
            "Installing collected packages: smmap, setproctitle, sentry-sdk, docker-pycreds, gitdb, GitPython, wandb\n",
            "Successfully installed GitPython-3.1.40 docker-pycreds-0.4.0 gitdb-4.0.11 sentry-sdk-1.39.1 setproctitle-1.3.3 smmap-5.0.1 wandb-0.16.1\n"
          ]
        }
      ]
    },
    {
      "cell_type": "code",
      "source": [
        "#@title download youtube vids and convert to wav\n",
        "for url in urllist[:3]:\n",
        "    !youtube-dl --extract-audio --audio-format wav --audio-quality 0 --output \"{output_folder}/%(id)s.%(ext)s\" \"{url}\"\n"
      ],
      "metadata": {
        "colab": {
          "base_uri": "https://localhost:8080/"
        },
        "id": "jqkPQMyg4cFe",
        "outputId": "a6490a6e-9c49-4709-dc21-3e4739ecf272"
      },
      "execution_count": 14,
      "outputs": [
        {
          "output_type": "stream",
          "name": "stdout",
          "text": [
            "[youtube] 2RicaUqd9Hg: Downloading webpage\n",
            "[youtube] 2RicaUqd9Hg: Downloading player 4fd50162\n",
            "[download] Destination: custom_music/2RicaUqd9Hg.webm\n",
            "\u001b[K[download] 100% of 2.47MiB in 00:36\n",
            "[ffmpeg] Destination: custom_music/2RicaUqd9Hg.wav\n",
            "Deleting original file custom_music/2RicaUqd9Hg.webm (pass -k to keep)\n",
            "[youtube] -CCgDvUM4TM: Downloading webpage\n",
            "\u001b[0;31mERROR:\u001b[0m Unable to extract \u001b[0;34muploader id\u001b[0m; please report this issue on https://yt-dl.org/bug . Make sure you are using the latest version; see  https://yt-dl.org/update  on how to update. Be sure to call youtube-dl with the --verbose flag and include its complete output.\n",
            "[youtube] 9KhbM2mqhCQ: Downloading webpage\n",
            "\u001b[0;31mERROR:\u001b[0m Unable to extract \u001b[0;34muploader id\u001b[0m; please report this issue on https://yt-dl.org/bug . Make sure you are using the latest version; see  https://yt-dl.org/update  on how to update. Be sure to call youtube-dl with the --verbose flag and include its complete output.\n"
          ]
        }
      ]
    },
    {
      "cell_type": "code",
      "source": [
        "!python EDGE/test.py --music_dir \"{output_folder}\"/ --save_motions --motion_save_dir \"{motion_folder}\"\n"
      ],
      "metadata": {
        "colab": {
          "base_uri": "https://localhost:8080/"
        },
        "id": "rGQ8ul5J9kax",
        "outputId": "16f8908f-0d7e-40a2-f382-5acd77e33621"
      },
      "execution_count": 17,
      "outputs": [
        {
          "output_type": "stream",
          "name": "stdout",
          "text": [
            "Computing features for input music\n",
            "Slicing custom_music/2RicaUqd9Hg.wav\n",
            "Computing features for custom_music/2RicaUqd9Hg.wav\n",
            "Downloading: 100% [10288727721 / 10288727721] bytesImporting jukebox and associated packages...\n",
            "Setting up the VQ-VAE...\n",
            "Loading vqvae in eval mode\n",
            "Setting up the top prior...\n",
            "Loading artist IDs from /usr/local/lib/python3.10/dist-packages/jukebox/data/ids/v2_artist_ids.txt\n",
            "Loading artist IDs from /usr/local/lib/python3.10/dist-packages/jukebox/data/ids/v2_genre_ids.txt\n",
            "Level:2, Cond downsample:None, Raw to tokens:128, Sample length:1048576\n",
            "Converting to fp16 params\n",
            "Loading prior in eval mode\n",
            "Loading the top prior weights into memory...\n",
            "\n",
            "  0% 0/872 [00:00<?, ?it/s]\u001b[A\n",
            "  1% 10/872 [00:00<00:08, 98.27it/s]\u001b[A\n",
            "  5% 44/872 [00:00<00:06, 124.71it/s]\u001b[A\n",
            "  9% 80/872 [00:00<00:05, 154.93it/s]\u001b[A\n",
            " 13% 112/872 [00:00<00:04, 183.17it/s]\u001b[A\n",
            " 17% 148/872 [00:00<00:03, 213.22it/s]\u001b[A\n",
            " 22% 188/872 [00:00<00:02, 244.26it/s]\u001b[A\n",
            " 26% 224/872 [00:00<00:02, 268.48it/s]\u001b[A\n",
            " 29% 256/872 [00:00<00:02, 281.51it/s]\u001b[A\n",
            " 33% 292/872 [00:00<00:01, 293.58it/s]\u001b[A\n",
            " 38% 328/872 [00:01<00:01, 304.65it/s]\u001b[A\n",
            " 42% 364/872 [00:01<00:01, 313.03it/s]\u001b[A\n",
            " 46% 398/872 [00:01<00:01, 313.57it/s]\u001b[A\n",
            " 50% 434/872 [00:01<00:01, 314.48it/s]\u001b[A\n",
            " 54% 467/872 [00:01<00:01, 317.86it/s]\u001b[A\n",
            " 57% 500/872 [00:01<00:01, 306.97it/s]\u001b[A\n",
            " 61% 536/872 [00:01<00:01, 316.03it/s]\u001b[A\n",
            " 66% 572/872 [00:01<00:00, 324.37it/s]\u001b[A\n",
            " 70% 608/872 [00:01<00:00, 326.26it/s]\u001b[A\n",
            " 74% 641/872 [00:02<00:00, 321.90it/s]\u001b[A\n",
            " 77% 674/872 [00:02<00:00, 315.45it/s]\u001b[A\n",
            " 81% 710/872 [00:02<00:00, 323.22it/s]\u001b[A\n",
            " 86% 746/872 [00:02<00:00, 326.00it/s]\u001b[A\n",
            " 89% 779/872 [00:02<00:00, 326.52it/s]\u001b[A\n",
            " 93% 812/872 [00:02<00:00, 308.39it/s]\u001b[A\n",
            "100% 872/872 [00:02<00:00, 316.86it/s]\n",
            "\n",
            "100% 669/669 [00:00<00:00, 15497.40it/s]\n",
            "100% 61/61 [07:37<00:00,  7.50s/it]\n",
            "Model has 49464471 parameters\n",
            "Generating dances\n",
            "sampling loop time step: 100% 50/50 [00:05<00:00,  9.76it/s]\n",
            "/content/EDGE/vis.py:194: UserWarning: No data for colormapping provided via 'c'. Parameters 'cmap' will be ignored\n",
            "  ax.scatter([], [], [], zorder=10, s=0, cmap=ListedColormap([\"r\", \"g\", \"b\"]))\n",
            "Done\n"
          ]
        }
      ]
    }
  ]
}